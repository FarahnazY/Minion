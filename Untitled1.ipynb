{
  "nbformat": 4,
  "nbformat_minor": 0,
  "metadata": {
    "colab": {
      "provenance": [],
      "authorship_tag": "ABX9TyMDv+E97ozM4katfRPofKRD",
      "include_colab_link": true
    },
    "kernelspec": {
      "name": "python3",
      "display_name": "Python 3"
    },
    "language_info": {
      "name": "python"
    }
  },
  "cells": [
    {
      "cell_type": "markdown",
      "metadata": {
        "id": "view-in-github",
        "colab_type": "text"
      },
      "source": [
        "<a href=\"https://colab.research.google.com/github/FarahnazY/Minion/blob/main/Untitled1.ipynb\" target=\"_parent\"><img src=\"https://colab.research.google.com/assets/colab-badge.svg\" alt=\"Open In Colab\"/></a>"
      ]
    },
    {
      "cell_type": "markdown",
      "source": [
        "ایجاد عدد تصادفی: استفاده از کتابخانه random برای تولید عدد تصادفی."
      ],
      "metadata": {
        "id": "ROPAeFpVV6fi"
      }
    },
    {
      "cell_type": "code",
      "source": [],
      "metadata": {
        "id": "t3Z4XVySWCZg"
      },
      "execution_count": null,
      "outputs": []
    }
  ]
}